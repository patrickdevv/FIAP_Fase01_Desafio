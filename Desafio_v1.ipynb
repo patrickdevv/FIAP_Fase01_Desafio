{
  "nbformat": 4,
  "nbformat_minor": 0,
  "metadata": {
    "colab": {
      "provenance": [],
      "include_colab_link": true
    },
    "kernelspec": {
      "name": "python3",
      "display_name": "Python 3"
    },
    "language_info": {
      "name": "python"
    }
  },
  "cells": [
    {
      "cell_type": "markdown",
      "metadata": {
        "id": "view-in-github",
        "colab_type": "text"
      },
      "source": [
        "<a href=\"https://colab.research.google.com/github/patrickdevv/FIAP_Fase01_Desafio/blob/main/Desafio_v1.ipynb\" target=\"_parent\"><img src=\"https://colab.research.google.com/assets/colab-badge.svg\" alt=\"Open In Colab\"/></a>"
      ]
    },
    {
      "cell_type": "markdown",
      "source": [
        "# Desafio Pós-Tech - IA para Devs - Fase 01"
      ],
      "metadata": {
        "id": "tDWgrQKexlVa"
      }
    },
    {
      "cell_type": "markdown",
      "source": [
        "## Preparação da Massa de dados\n"
      ],
      "metadata": {
        "id": "zA80s21LxtcS"
      }
    },
    {
      "cell_type": "markdown",
      "source": [
        "### Gerando a massa de dados utilizando a biblioteca Faker"
      ],
      "metadata": {
        "id": "Hhg0g_GFx2WW"
      }
    },
    {
      "cell_type": "code",
      "source": [],
      "metadata": {
        "id": "gHtRf0DmIwbu"
      },
      "execution_count": null,
      "outputs": []
    },
    {
      "cell_type": "markdown",
      "source": [
        "#### Instala as Bibliotecas"
      ],
      "metadata": {
        "id": "cKFMzcW6yKib"
      }
    },
    {
      "cell_type": "code",
      "execution_count": 4,
      "metadata": {
        "colab": {
          "base_uri": "https://localhost:8080/"
        },
        "id": "Alua0nmMxjac",
        "outputId": "11ef92c7-842e-4b79-90fc-6fd2fe02666f"
      },
      "outputs": [
        {
          "output_type": "stream",
          "name": "stdout",
          "text": [
            "Collecting Faker\n",
            "  Downloading Faker-26.0.0-py3-none-any.whl.metadata (15 kB)\n",
            "Requirement already satisfied: python-dateutil>=2.4 in /usr/local/lib/python3.10/dist-packages (from Faker) (2.8.2)\n",
            "Requirement already satisfied: six>=1.5 in /usr/local/lib/python3.10/dist-packages (from python-dateutil>=2.4->Faker) (1.16.0)\n",
            "Downloading Faker-26.0.0-py3-none-any.whl (1.8 MB)\n",
            "\u001b[?25l   \u001b[90m━━━━━━━━━━━━━━━━━━━━━━━━━━━━━━━━━━━━━━━━\u001b[0m \u001b[32m0.0/1.8 MB\u001b[0m \u001b[31m?\u001b[0m eta \u001b[36m-:--:--\u001b[0m\r\u001b[2K   \u001b[91m━━━━━━━━━━━━━━━━━━━━━━━━━━━━━\u001b[0m\u001b[91m╸\u001b[0m\u001b[90m━━━━━━━━━━\u001b[0m \u001b[32m1.3/1.8 MB\u001b[0m \u001b[31m40.2 MB/s\u001b[0m eta \u001b[36m0:00:01\u001b[0m\r\u001b[2K   \u001b[90m━━━━━━━━━━━━━━━━━━━━━━━━━━━━━━━━━━━━━━━━\u001b[0m \u001b[32m1.8/1.8 MB\u001b[0m \u001b[31m31.2 MB/s\u001b[0m eta \u001b[36m0:00:00\u001b[0m\n",
            "\u001b[?25hInstalling collected packages: Faker\n",
            "Successfully installed Faker-26.0.0\n"
          ]
        }
      ],
      "source": [
        "pip install Faker"
      ]
    },
    {
      "cell_type": "code",
      "source": [
        "pip install numpy"
      ],
      "metadata": {
        "colab": {
          "base_uri": "https://localhost:8080/"
        },
        "id": "vj39ovIn0t4-",
        "outputId": "dc8afe3c-5b23-4ff2-f56f-2c3e452f182b"
      },
      "execution_count": null,
      "outputs": [
        {
          "output_type": "stream",
          "name": "stdout",
          "text": [
            "Requirement already satisfied: numpy in /usr/local/lib/python3.10/dist-packages (1.26.4)\n"
          ]
        }
      ]
    },
    {
      "cell_type": "code",
      "source": [
        "# Importações\n",
        "from faker import Faker\n",
        "from datetime import datetime as dt\n",
        "from pandas import pandas as pd\n",
        "import numpy as np"
      ],
      "metadata": {
        "id": "-xjy45gQx-rA"
      },
      "execution_count": 21,
      "outputs": []
    },
    {
      "cell_type": "markdown",
      "source": [
        "Base fornecida"
      ],
      "metadata": {
        "id": "SJuTWaCryc1Z"
      }
    },
    {
      "cell_type": "code",
      "source": [
        "# Carregar Dados do GitHub\n",
        "# URL do link bruto do arquivo no GitHub\n",
        "url = 'https://raw.githubusercontent.com/edumarcelino/dataset/main/insurance.csv'\n",
        "\n",
        "# Tentar carregar o DataFrame\n",
        "try:\n",
        "    df = pd.read_csv(url)\n",
        "    print(\"DataFrame carregado com sucesso!\")\n",
        "    print(df.head())\n",
        "except Exception as e:\n",
        "    print(f\"Erro ao carregar o DataFrame: {e}\")\n",
        "\n"
      ],
      "metadata": {
        "colab": {
          "base_uri": "https://localhost:8080/"
        },
        "id": "Z8lKnlQ1zOvp",
        "outputId": "4a9820af-d704-48ad-bf33-7b8109ec0358"
      },
      "execution_count": 27,
      "outputs": [
        {
          "output_type": "stream",
          "name": "stdout",
          "text": [
            "DataFrame carregado com sucesso!\n",
            "   age     sex     bmi  children smoker     region      charges\n",
            "0   19  female  27.900         0    yes  southwest  16884.92400\n",
            "1   18    male  33.770         1     no  southeast   1725.55230\n",
            "2   28    male  33.000         3     no  southeast   4449.46200\n",
            "3   33    male  22.705         0     no  northwest  21984.47061\n",
            "4   32    male  28.880         0     no  northwest   3866.85520\n"
          ]
        }
      ]
    },
    {
      "cell_type": "code",
      "source": [
        "# Crie uma instância do Faker\n",
        "fake = Faker()\n",
        "# Gere idade\n",
        "idade = fake.random_int(0,90)\n",
        "# Gere um gênero\n",
        "gênero = np.random.choice([\"masculino\", \"feminino\"], p=[0.5, 0.5])\n",
        "# Gere IMC\n",
        "imc = (fake.random_int(min=150000, max=550000)/10000)\n",
        "# Gere uma qtd de filhos\n",
        "filhos = fake.random_number(digits=1, fix_len=False)\n",
        "# Gere fumante\n",
        "fumante = fake.random_element(elements=('sim','não'))\n",
        "# Gere região\n",
        "região = fake.random_element(elements=('sul', 'sudoeste', 'centro-oeste', 'nordeste', 'norte'))\n",
        "# Gere encargos\n",
        "encargos = (fake.random_int(min=20000000000, max=35000000000)/1000000)\n",
        "# Imprima os dados fictícios\n",
        "print(\"idade: \", idade)\n",
        "print(\"gênero: \", gênero)\n",
        "print(\"imc: \", imc)\n",
        "print(\"filhos: \", filhos)\n",
        "print(\"fumante: \", fumante)\n",
        "print(\"região: \", região)\n",
        "print(\"encargos: \", encargos)"
      ],
      "metadata": {
        "colab": {
          "base_uri": "https://localhost:8080/"
        },
        "id": "SDfwL-RXyX5f",
        "outputId": "b0018844-22be-4cc0-a9ff-d45736e37d25"
      },
      "execution_count": null,
      "outputs": [
        {
          "output_type": "stream",
          "name": "stdout",
          "text": [
            "idade:  47\n",
            "gênero:  masculino\n",
            "imc:  43.5336\n",
            "filhos:  6\n",
            "fumante:  sim\n",
            "região:  sudoeste\n",
            "encargos:  21488.270038\n"
          ]
        }
      ]
    },
    {
      "cell_type": "markdown",
      "source": [
        "##### Cria a base de dados"
      ],
      "metadata": {
        "id": "1lOvfxDp50RM"
      }
    },
    {
      "cell_type": "code",
      "source": [
        "import datetime\n",
        "from datetime import datetime as dt\n",
        "from faker import Faker\n",
        "import random\n",
        "import csv\n",
        "\n",
        "fake = Faker()\n",
        "\n",
        "# Set the number of rows to generate\n",
        "num_rows = 1000000\n",
        "\n",
        "# Define the column headers\n",
        "headers = [\"idade\", \"gênero\", \"imc\", \"filhos\", \"fumante\", \"região\", \"encargos\"]\n",
        "\n",
        "# Open a new CSV file for writing\n",
        "with open(\"dados_gerados.csv\", \"w\", newline=\"\") as csvfile:\n",
        "    writer = csv.writer(csvfile)\n",
        "\n",
        "    # Write the header row\n",
        "    writer.writerow(headers)\n",
        "\n",
        "    # Generate fake data and write to the CSV file\n",
        "    for i in range(num_rows):\n",
        "      # Gere idade\n",
        "      idade = fake.random_int(16,90)\n",
        "      # Gere um gênero\n",
        "      gênero = np.random.choice([\"masculino\", \"feminino\"], p=[0.5, 0.5])\n",
        "      # Gere IMC\n",
        "      imc = (fake.random_int(min=150000, max=550000)/10000)\n",
        "      # Gere uma qtd de filhos\n",
        "      filhos = fake.random_number(digits=1, fix_len=False)\n",
        "      # Gere fumante\n",
        "      fumante = fake.random_element(elements=('sim','não'))\n",
        "      # Gere região\n",
        "      região = fake.random_element(elements=('sul', 'sudoeste', 'centro-oeste', 'nordeste', 'norte'))\n",
        "      # Gere encargos\n",
        "      encargos = (fake.random_int(min=20000000000, max=35000000000)/1000000)\n",
        "\n",
        "      # Write the data to the CSV file\n",
        "      writer.writerow([idade, gênero, imc, filhos, fumante, região, encargos])\n"
      ],
      "metadata": {
        "id": "yLw28w5L3OBE"
      },
      "execution_count": null,
      "outputs": []
    },
    {
      "cell_type": "code",
      "source": [
        "df_teste = pd.read_csv('dados_gerados.csv')\n",
        "df_teste"
      ],
      "metadata": {
        "colab": {
          "base_uri": "https://localhost:8080/",
          "height": 424
        },
        "id": "HvMLeY3Q6f_A",
        "outputId": "0415bcfd-60e3-41d2-da5e-343d27e86a7c"
      },
      "execution_count": null,
      "outputs": [
        {
          "output_type": "execute_result",
          "data": {
            "text/plain": [
              "        idade     gênero      imc  filhos fumante        região      encargos\n",
              "0          81   feminino  17.7936       9     não  centro-oeste  21324.729095\n",
              "1          23   feminino  43.5089       9     sim  centro-oeste  25392.630079\n",
              "2          23   feminino  47.9510       3     não         norte  33550.504348\n",
              "3          52  masculino  23.8504       0     não  centro-oeste  28504.481591\n",
              "4          48   feminino  34.3923       6     sim           sul  20530.808753\n",
              "...       ...        ...      ...     ...     ...           ...           ...\n",
              "999995     80   feminino  15.2160       6     sim  centro-oeste  34899.296660\n",
              "999996     65   feminino  32.7834       4     sim      sudoeste  31745.020120\n",
              "999997     32  masculino  40.1290       3     sim         norte  24649.774313\n",
              "999998     75  masculino  35.4789       0     sim         norte  29428.528809\n",
              "999999     54  masculino  21.6449       8     não           sul  31803.881135\n",
              "\n",
              "[1000000 rows x 7 columns]"
            ],
            "text/html": [
              "\n",
              "  <div id=\"df-61b18d66-c98a-43eb-a18d-e7875f18cd6c\" class=\"colab-df-container\">\n",
              "    <div>\n",
              "<style scoped>\n",
              "    .dataframe tbody tr th:only-of-type {\n",
              "        vertical-align: middle;\n",
              "    }\n",
              "\n",
              "    .dataframe tbody tr th {\n",
              "        vertical-align: top;\n",
              "    }\n",
              "\n",
              "    .dataframe thead th {\n",
              "        text-align: right;\n",
              "    }\n",
              "</style>\n",
              "<table border=\"1\" class=\"dataframe\">\n",
              "  <thead>\n",
              "    <tr style=\"text-align: right;\">\n",
              "      <th></th>\n",
              "      <th>idade</th>\n",
              "      <th>gênero</th>\n",
              "      <th>imc</th>\n",
              "      <th>filhos</th>\n",
              "      <th>fumante</th>\n",
              "      <th>região</th>\n",
              "      <th>encargos</th>\n",
              "    </tr>\n",
              "  </thead>\n",
              "  <tbody>\n",
              "    <tr>\n",
              "      <th>0</th>\n",
              "      <td>81</td>\n",
              "      <td>feminino</td>\n",
              "      <td>17.7936</td>\n",
              "      <td>9</td>\n",
              "      <td>não</td>\n",
              "      <td>centro-oeste</td>\n",
              "      <td>21324.729095</td>\n",
              "    </tr>\n",
              "    <tr>\n",
              "      <th>1</th>\n",
              "      <td>23</td>\n",
              "      <td>feminino</td>\n",
              "      <td>43.5089</td>\n",
              "      <td>9</td>\n",
              "      <td>sim</td>\n",
              "      <td>centro-oeste</td>\n",
              "      <td>25392.630079</td>\n",
              "    </tr>\n",
              "    <tr>\n",
              "      <th>2</th>\n",
              "      <td>23</td>\n",
              "      <td>feminino</td>\n",
              "      <td>47.9510</td>\n",
              "      <td>3</td>\n",
              "      <td>não</td>\n",
              "      <td>norte</td>\n",
              "      <td>33550.504348</td>\n",
              "    </tr>\n",
              "    <tr>\n",
              "      <th>3</th>\n",
              "      <td>52</td>\n",
              "      <td>masculino</td>\n",
              "      <td>23.8504</td>\n",
              "      <td>0</td>\n",
              "      <td>não</td>\n",
              "      <td>centro-oeste</td>\n",
              "      <td>28504.481591</td>\n",
              "    </tr>\n",
              "    <tr>\n",
              "      <th>4</th>\n",
              "      <td>48</td>\n",
              "      <td>feminino</td>\n",
              "      <td>34.3923</td>\n",
              "      <td>6</td>\n",
              "      <td>sim</td>\n",
              "      <td>sul</td>\n",
              "      <td>20530.808753</td>\n",
              "    </tr>\n",
              "    <tr>\n",
              "      <th>...</th>\n",
              "      <td>...</td>\n",
              "      <td>...</td>\n",
              "      <td>...</td>\n",
              "      <td>...</td>\n",
              "      <td>...</td>\n",
              "      <td>...</td>\n",
              "      <td>...</td>\n",
              "    </tr>\n",
              "    <tr>\n",
              "      <th>999995</th>\n",
              "      <td>80</td>\n",
              "      <td>feminino</td>\n",
              "      <td>15.2160</td>\n",
              "      <td>6</td>\n",
              "      <td>sim</td>\n",
              "      <td>centro-oeste</td>\n",
              "      <td>34899.296660</td>\n",
              "    </tr>\n",
              "    <tr>\n",
              "      <th>999996</th>\n",
              "      <td>65</td>\n",
              "      <td>feminino</td>\n",
              "      <td>32.7834</td>\n",
              "      <td>4</td>\n",
              "      <td>sim</td>\n",
              "      <td>sudoeste</td>\n",
              "      <td>31745.020120</td>\n",
              "    </tr>\n",
              "    <tr>\n",
              "      <th>999997</th>\n",
              "      <td>32</td>\n",
              "      <td>masculino</td>\n",
              "      <td>40.1290</td>\n",
              "      <td>3</td>\n",
              "      <td>sim</td>\n",
              "      <td>norte</td>\n",
              "      <td>24649.774313</td>\n",
              "    </tr>\n",
              "    <tr>\n",
              "      <th>999998</th>\n",
              "      <td>75</td>\n",
              "      <td>masculino</td>\n",
              "      <td>35.4789</td>\n",
              "      <td>0</td>\n",
              "      <td>sim</td>\n",
              "      <td>norte</td>\n",
              "      <td>29428.528809</td>\n",
              "    </tr>\n",
              "    <tr>\n",
              "      <th>999999</th>\n",
              "      <td>54</td>\n",
              "      <td>masculino</td>\n",
              "      <td>21.6449</td>\n",
              "      <td>8</td>\n",
              "      <td>não</td>\n",
              "      <td>sul</td>\n",
              "      <td>31803.881135</td>\n",
              "    </tr>\n",
              "  </tbody>\n",
              "</table>\n",
              "<p>1000000 rows × 7 columns</p>\n",
              "</div>\n",
              "    <div class=\"colab-df-buttons\">\n",
              "\n",
              "  <div class=\"colab-df-container\">\n",
              "    <button class=\"colab-df-convert\" onclick=\"convertToInteractive('df-61b18d66-c98a-43eb-a18d-e7875f18cd6c')\"\n",
              "            title=\"Convert this dataframe to an interactive table.\"\n",
              "            style=\"display:none;\">\n",
              "\n",
              "  <svg xmlns=\"http://www.w3.org/2000/svg\" height=\"24px\" viewBox=\"0 -960 960 960\">\n",
              "    <path d=\"M120-120v-720h720v720H120Zm60-500h600v-160H180v160Zm220 220h160v-160H400v160Zm0 220h160v-160H400v160ZM180-400h160v-160H180v160Zm440 0h160v-160H620v160ZM180-180h160v-160H180v160Zm440 0h160v-160H620v160Z\"/>\n",
              "  </svg>\n",
              "    </button>\n",
              "\n",
              "  <style>\n",
              "    .colab-df-container {\n",
              "      display:flex;\n",
              "      gap: 12px;\n",
              "    }\n",
              "\n",
              "    .colab-df-convert {\n",
              "      background-color: #E8F0FE;\n",
              "      border: none;\n",
              "      border-radius: 50%;\n",
              "      cursor: pointer;\n",
              "      display: none;\n",
              "      fill: #1967D2;\n",
              "      height: 32px;\n",
              "      padding: 0 0 0 0;\n",
              "      width: 32px;\n",
              "    }\n",
              "\n",
              "    .colab-df-convert:hover {\n",
              "      background-color: #E2EBFA;\n",
              "      box-shadow: 0px 1px 2px rgba(60, 64, 67, 0.3), 0px 1px 3px 1px rgba(60, 64, 67, 0.15);\n",
              "      fill: #174EA6;\n",
              "    }\n",
              "\n",
              "    .colab-df-buttons div {\n",
              "      margin-bottom: 4px;\n",
              "    }\n",
              "\n",
              "    [theme=dark] .colab-df-convert {\n",
              "      background-color: #3B4455;\n",
              "      fill: #D2E3FC;\n",
              "    }\n",
              "\n",
              "    [theme=dark] .colab-df-convert:hover {\n",
              "      background-color: #434B5C;\n",
              "      box-shadow: 0px 1px 3px 1px rgba(0, 0, 0, 0.15);\n",
              "      filter: drop-shadow(0px 1px 2px rgba(0, 0, 0, 0.3));\n",
              "      fill: #FFFFFF;\n",
              "    }\n",
              "  </style>\n",
              "\n",
              "    <script>\n",
              "      const buttonEl =\n",
              "        document.querySelector('#df-61b18d66-c98a-43eb-a18d-e7875f18cd6c button.colab-df-convert');\n",
              "      buttonEl.style.display =\n",
              "        google.colab.kernel.accessAllowed ? 'block' : 'none';\n",
              "\n",
              "      async function convertToInteractive(key) {\n",
              "        const element = document.querySelector('#df-61b18d66-c98a-43eb-a18d-e7875f18cd6c');\n",
              "        const dataTable =\n",
              "          await google.colab.kernel.invokeFunction('convertToInteractive',\n",
              "                                                    [key], {});\n",
              "        if (!dataTable) return;\n",
              "\n",
              "        const docLinkHtml = 'Like what you see? Visit the ' +\n",
              "          '<a target=\"_blank\" href=https://colab.research.google.com/notebooks/data_table.ipynb>data table notebook</a>'\n",
              "          + ' to learn more about interactive tables.';\n",
              "        element.innerHTML = '';\n",
              "        dataTable['output_type'] = 'display_data';\n",
              "        await google.colab.output.renderOutput(dataTable, element);\n",
              "        const docLink = document.createElement('div');\n",
              "        docLink.innerHTML = docLinkHtml;\n",
              "        element.appendChild(docLink);\n",
              "      }\n",
              "    </script>\n",
              "  </div>\n",
              "\n",
              "\n",
              "<div id=\"df-ea3b6d90-ed62-499b-827d-d5102da14619\">\n",
              "  <button class=\"colab-df-quickchart\" onclick=\"quickchart('df-ea3b6d90-ed62-499b-827d-d5102da14619')\"\n",
              "            title=\"Suggest charts\"\n",
              "            style=\"display:none;\">\n",
              "\n",
              "<svg xmlns=\"http://www.w3.org/2000/svg\" height=\"24px\"viewBox=\"0 0 24 24\"\n",
              "     width=\"24px\">\n",
              "    <g>\n",
              "        <path d=\"M19 3H5c-1.1 0-2 .9-2 2v14c0 1.1.9 2 2 2h14c1.1 0 2-.9 2-2V5c0-1.1-.9-2-2-2zM9 17H7v-7h2v7zm4 0h-2V7h2v10zm4 0h-2v-4h2v4z\"/>\n",
              "    </g>\n",
              "</svg>\n",
              "  </button>\n",
              "\n",
              "<style>\n",
              "  .colab-df-quickchart {\n",
              "      --bg-color: #E8F0FE;\n",
              "      --fill-color: #1967D2;\n",
              "      --hover-bg-color: #E2EBFA;\n",
              "      --hover-fill-color: #174EA6;\n",
              "      --disabled-fill-color: #AAA;\n",
              "      --disabled-bg-color: #DDD;\n",
              "  }\n",
              "\n",
              "  [theme=dark] .colab-df-quickchart {\n",
              "      --bg-color: #3B4455;\n",
              "      --fill-color: #D2E3FC;\n",
              "      --hover-bg-color: #434B5C;\n",
              "      --hover-fill-color: #FFFFFF;\n",
              "      --disabled-bg-color: #3B4455;\n",
              "      --disabled-fill-color: #666;\n",
              "  }\n",
              "\n",
              "  .colab-df-quickchart {\n",
              "    background-color: var(--bg-color);\n",
              "    border: none;\n",
              "    border-radius: 50%;\n",
              "    cursor: pointer;\n",
              "    display: none;\n",
              "    fill: var(--fill-color);\n",
              "    height: 32px;\n",
              "    padding: 0;\n",
              "    width: 32px;\n",
              "  }\n",
              "\n",
              "  .colab-df-quickchart:hover {\n",
              "    background-color: var(--hover-bg-color);\n",
              "    box-shadow: 0 1px 2px rgba(60, 64, 67, 0.3), 0 1px 3px 1px rgba(60, 64, 67, 0.15);\n",
              "    fill: var(--button-hover-fill-color);\n",
              "  }\n",
              "\n",
              "  .colab-df-quickchart-complete:disabled,\n",
              "  .colab-df-quickchart-complete:disabled:hover {\n",
              "    background-color: var(--disabled-bg-color);\n",
              "    fill: var(--disabled-fill-color);\n",
              "    box-shadow: none;\n",
              "  }\n",
              "\n",
              "  .colab-df-spinner {\n",
              "    border: 2px solid var(--fill-color);\n",
              "    border-color: transparent;\n",
              "    border-bottom-color: var(--fill-color);\n",
              "    animation:\n",
              "      spin 1s steps(1) infinite;\n",
              "  }\n",
              "\n",
              "  @keyframes spin {\n",
              "    0% {\n",
              "      border-color: transparent;\n",
              "      border-bottom-color: var(--fill-color);\n",
              "      border-left-color: var(--fill-color);\n",
              "    }\n",
              "    20% {\n",
              "      border-color: transparent;\n",
              "      border-left-color: var(--fill-color);\n",
              "      border-top-color: var(--fill-color);\n",
              "    }\n",
              "    30% {\n",
              "      border-color: transparent;\n",
              "      border-left-color: var(--fill-color);\n",
              "      border-top-color: var(--fill-color);\n",
              "      border-right-color: var(--fill-color);\n",
              "    }\n",
              "    40% {\n",
              "      border-color: transparent;\n",
              "      border-right-color: var(--fill-color);\n",
              "      border-top-color: var(--fill-color);\n",
              "    }\n",
              "    60% {\n",
              "      border-color: transparent;\n",
              "      border-right-color: var(--fill-color);\n",
              "    }\n",
              "    80% {\n",
              "      border-color: transparent;\n",
              "      border-right-color: var(--fill-color);\n",
              "      border-bottom-color: var(--fill-color);\n",
              "    }\n",
              "    90% {\n",
              "      border-color: transparent;\n",
              "      border-bottom-color: var(--fill-color);\n",
              "    }\n",
              "  }\n",
              "</style>\n",
              "\n",
              "  <script>\n",
              "    async function quickchart(key) {\n",
              "      const quickchartButtonEl =\n",
              "        document.querySelector('#' + key + ' button');\n",
              "      quickchartButtonEl.disabled = true;  // To prevent multiple clicks.\n",
              "      quickchartButtonEl.classList.add('colab-df-spinner');\n",
              "      try {\n",
              "        const charts = await google.colab.kernel.invokeFunction(\n",
              "            'suggestCharts', [key], {});\n",
              "      } catch (error) {\n",
              "        console.error('Error during call to suggestCharts:', error);\n",
              "      }\n",
              "      quickchartButtonEl.classList.remove('colab-df-spinner');\n",
              "      quickchartButtonEl.classList.add('colab-df-quickchart-complete');\n",
              "    }\n",
              "    (() => {\n",
              "      let quickchartButtonEl =\n",
              "        document.querySelector('#df-ea3b6d90-ed62-499b-827d-d5102da14619 button');\n",
              "      quickchartButtonEl.style.display =\n",
              "        google.colab.kernel.accessAllowed ? 'block' : 'none';\n",
              "    })();\n",
              "  </script>\n",
              "</div>\n",
              "\n",
              "  <div id=\"id_ede414a5-73db-416a-91ec-d73cdae63f9f\">\n",
              "    <style>\n",
              "      .colab-df-generate {\n",
              "        background-color: #E8F0FE;\n",
              "        border: none;\n",
              "        border-radius: 50%;\n",
              "        cursor: pointer;\n",
              "        display: none;\n",
              "        fill: #1967D2;\n",
              "        height: 32px;\n",
              "        padding: 0 0 0 0;\n",
              "        width: 32px;\n",
              "      }\n",
              "\n",
              "      .colab-df-generate:hover {\n",
              "        background-color: #E2EBFA;\n",
              "        box-shadow: 0px 1px 2px rgba(60, 64, 67, 0.3), 0px 1px 3px 1px rgba(60, 64, 67, 0.15);\n",
              "        fill: #174EA6;\n",
              "      }\n",
              "\n",
              "      [theme=dark] .colab-df-generate {\n",
              "        background-color: #3B4455;\n",
              "        fill: #D2E3FC;\n",
              "      }\n",
              "\n",
              "      [theme=dark] .colab-df-generate:hover {\n",
              "        background-color: #434B5C;\n",
              "        box-shadow: 0px 1px 3px 1px rgba(0, 0, 0, 0.15);\n",
              "        filter: drop-shadow(0px 1px 2px rgba(0, 0, 0, 0.3));\n",
              "        fill: #FFFFFF;\n",
              "      }\n",
              "    </style>\n",
              "    <button class=\"colab-df-generate\" onclick=\"generateWithVariable('df_teste')\"\n",
              "            title=\"Generate code using this dataframe.\"\n",
              "            style=\"display:none;\">\n",
              "\n",
              "  <svg xmlns=\"http://www.w3.org/2000/svg\" height=\"24px\"viewBox=\"0 0 24 24\"\n",
              "       width=\"24px\">\n",
              "    <path d=\"M7,19H8.4L18.45,9,17,7.55,7,17.6ZM5,21V16.75L18.45,3.32a2,2,0,0,1,2.83,0l1.4,1.43a1.91,1.91,0,0,1,.58,1.4,1.91,1.91,0,0,1-.58,1.4L9.25,21ZM18.45,9,17,7.55Zm-12,3A5.31,5.31,0,0,0,4.9,8.1,5.31,5.31,0,0,0,1,6.5,5.31,5.31,0,0,0,4.9,4.9,5.31,5.31,0,0,0,6.5,1,5.31,5.31,0,0,0,8.1,4.9,5.31,5.31,0,0,0,12,6.5,5.46,5.46,0,0,0,6.5,12Z\"/>\n",
              "  </svg>\n",
              "    </button>\n",
              "    <script>\n",
              "      (() => {\n",
              "      const buttonEl =\n",
              "        document.querySelector('#id_ede414a5-73db-416a-91ec-d73cdae63f9f button.colab-df-generate');\n",
              "      buttonEl.style.display =\n",
              "        google.colab.kernel.accessAllowed ? 'block' : 'none';\n",
              "\n",
              "      buttonEl.onclick = () => {\n",
              "        google.colab.notebook.generateWithVariable('df_teste');\n",
              "      }\n",
              "      })();\n",
              "    </script>\n",
              "  </div>\n",
              "\n",
              "    </div>\n",
              "  </div>\n"
            ],
            "application/vnd.google.colaboratory.intrinsic+json": {
              "type": "dataframe",
              "variable_name": "df_teste"
            }
          },
          "metadata": {},
          "execution_count": 50
        }
      ]
    },
    {
      "cell_type": "code",
      "source": [
        "df_teste['fumante']"
      ],
      "metadata": {
        "colab": {
          "base_uri": "https://localhost:8080/"
        },
        "id": "Df00Jm2066lh",
        "outputId": "ea865840-7e16-4f9d-de38-6c8684652cd4"
      },
      "execution_count": null,
      "outputs": [
        {
          "output_type": "execute_result",
          "data": {
            "text/plain": [
              "0    ['sim']\n",
              "1    ['não']\n",
              "2    ['sim']\n",
              "3    ['sim']\n",
              "4    ['não']\n",
              "5    ['sim']\n",
              "6    ['não']\n",
              "7    ['não']\n",
              "8    ['sim']\n",
              "9    ['sim']\n",
              "Name: fumante, dtype: object"
            ]
          },
          "metadata": {},
          "execution_count": 36
        }
      ]
    },
    {
      "cell_type": "code",
      "source": [],
      "metadata": {
        "id": "HAkJl0J27NW_"
      },
      "execution_count": null,
      "outputs": []
    }
  ]
}